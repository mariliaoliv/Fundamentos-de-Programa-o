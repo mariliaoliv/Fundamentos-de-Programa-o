{
  "nbformat": 4,
  "nbformat_minor": 0,
  "metadata": {
    "colab": {
      "provenance": [],
      "authorship_tag": "ABX9TyMFwOnpQLh7M9CHP56O2KgV",
      "include_colab_link": true
    },
    "kernelspec": {
      "name": "python3",
      "display_name": "Python 3"
    },
    "language_info": {
      "name": "python"
    }
  },
  "cells": [
    {
      "cell_type": "markdown",
      "metadata": {
        "id": "view-in-github",
        "colab_type": "text"
      },
      "source": [
        "<a href=\"https://colab.research.google.com/github/mariliaoliv/Fundamentos-de-Programa-o/blob/main/Aula_2_fundamentos_de_programa%C3%A7%C3%A3o_CD.ipynb\" target=\"_parent\"><img src=\"https://colab.research.google.com/assets/colab-badge.svg\" alt=\"Open In Colab\"/></a>"
      ]
    },
    {
      "cell_type": "code",
      "execution_count": null,
      "metadata": {
        "colab": {
          "base_uri": "https://localhost:8080/"
        },
        "id": "AjTcd0kwtMtw",
        "outputId": "b64df5cc-2ab0-4cae-af3f-5deb4f2d2d7e"
      },
      "outputs": [
        {
          "output_type": "stream",
          "name": "stdout",
          "text": [
            "28.75\n"
          ]
        }
      ],
      "source": [
        "# creat the areas list\n",
        "areas= [\"hallway\", 11.25, \"kitchen\", 18, \"living room\", 20, \"bedroom\", 10.75, \"bathoroom\", 9.50]\n",
        "# sum of kiteche and bathoroom area: eat_sleep_area\n",
        "eat_sleep_area = areas[3] + areas[7]\n",
        "print(eat_sleep_area)"
      ]
    },
    {
      "cell_type": "code",
      "source": [
        "#crie a lista de areas e faça algumas alteraçoes\n",
        "areas= [\"corredor\", 11.25, \"cozinha\",18, \"zona fria\", 20, \"quarto\", 10.75, \"banheiro\", 10.50]\n",
        "\n",
        "#add poolhouse a areas, a nova lista é areas_1]\n",
        "areas_1= [\"corredor\", 11.25, \"cozinha\",18, \"zona fria\", 20, \"quarto\", 10.75, \"banheiro\", 10.50, \"poolhouse\", 24.5]\n",
        "\n",
        "#add garagem a areas_1, a nova lista é areas_2\n",
        "areas_2= [\"corredor\", 11.25, \"cozinha\",18, \"zona fria\", 20, \"quarto\", 10.75, \"banheiro\", 10.50, \"poolhouse\", 24.5, \"garagem\", 15.5]\n",
        "print(areas_2)"
      ],
      "metadata": {
        "colab": {
          "base_uri": "https://localhost:8080/"
        },
        "id": "I5y5REFRxuqD",
        "outputId": "954bdb4d-7918-4151-e714-cd9ebcdd132b"
      },
      "execution_count": 2,
      "outputs": [
        {
          "output_type": "stream",
          "name": "stdout",
          "text": [
            "['corredor', 11.25, 'cozinha', 18, 'zona fria', 20, 'quarto', 10.75, 'banheiro', 10.5, 'poolhouse', 24.5, 'garagem', 15.5]\n"
          ]
        }
      ]
    },
    {
      "cell_type": "code",
      "source": [
        "# creat list areas\n",
        "areas = [11.25, 18, 20, 10.75, 10.50]\n",
        "# creat areas_copy\n",
        "areas_copy = areas\n",
        "# change areas copy\n",
        "areas_copy[0] = 5.0\n",
        "# print areas\n",
        "print(areas)"
      ],
      "metadata": {
        "colab": {
          "base_uri": "https://localhost:8080/"
        },
        "id": "L5MCmCIA1ayJ",
        "outputId": "e6fdd40b-63a6-4eb3-c162-3a6b08b75e1a"
      },
      "execution_count": 3,
      "outputs": [
        {
          "output_type": "stream",
          "name": "stdout",
          "text": [
            "[5.0, 18, 20, 10.75, 10.5]\n"
          ]
        }
      ]
    },
    {
      "cell_type": "code",
      "source": [
        "areas= [\"hallway\", 11.25, \"kitchen\", 18, \"living room\", 20, \"bedroom\", 10.75, \"bathoroom\", 9.50]\n",
        "# acesse os 6 primeiros elementos de areas e atribua a uma nova lista: downstairs\n",
        "down =  areas[0:5]\n",
        "print(down)"
      ],
      "metadata": {
        "colab": {
          "base_uri": "https://localhost:8080/"
        },
        "id": "EnLX2RLYtYOu",
        "outputId": "2e1cc09d-1407-4d08-958f-eb9e6a54dfa7"
      },
      "execution_count": null,
      "outputs": [
        {
          "output_type": "stream",
          "name": "stdout",
          "text": [
            "['hallway', 11.25, 'kitchen', 18, 'living room']\n"
          ]
        }
      ]
    },
    {
      "cell_type": "code",
      "source": [
        "x = [[\"a\", \"b\",\"c\"],\n",
        "     [\"d\", \"e\", \"f\"],\n",
        "     [\"g\", \"h\", \"i\"]]\n",
        "print(x[2][0])\n",
        "print(x[2][:2])"
      ],
      "metadata": {
        "colab": {
          "base_uri": "https://localhost:8080/"
        },
        "id": "yu0IXqmSvSJu",
        "outputId": "1c5192b1-2481-4868-e77a-f8776b1b0cf0"
      },
      "execution_count": null,
      "outputs": [
        {
          "output_type": "stream",
          "name": "stdout",
          "text": [
            "g\n",
            "['g', 'h']\n"
          ]
        }
      ]
    },
    {
      "cell_type": "code",
      "source": [
        "# áreas dos compartimentos(em metros quadrados)\n",
        "hall = 11.25\n",
        "kit = 18\n",
        "liv = 20\n",
        "bed = 10.75\n",
        "bath = 9.50\n",
        "# house information as list of lists\n",
        "house = [[\"hal\", 11.25],[\"kit\", 18],[\"liv\", 20],[\"bed\", 10.75],[\"bath\", 9.50]]\n",
        "house[-1][1]"
      ],
      "metadata": {
        "colab": {
          "base_uri": "https://localhost:8080/"
        },
        "id": "jsTIPdqnw2f9",
        "outputId": "b58a68a8-293d-4c2d-9b21-fc1507a0b5df"
      },
      "execution_count": null,
      "outputs": [
        {
          "output_type": "execute_result",
          "data": {
            "text/plain": [
              "9.5"
            ]
          },
          "metadata": {},
          "execution_count": 11
        }
      ]
    },
    {
      "cell_type": "code",
      "source": [
        "áreas = [\"hall\", 11.25, \"kit\", 18, \"liv\", 20, \"bed\", 10.75, \"bath\", 9.50]\n",
        "# troque o valor de bathroom de 9.50 para 10.50\n",
        "áreas[9] = 10.5\n",
        "print(áreas)"
      ],
      "metadata": {
        "colab": {
          "base_uri": "https://localhost:8080/"
        },
        "id": "Neh_jmF_5H4j",
        "outputId": "28ad73fd-50ea-43fa-9ed2-0784e70236dc"
      },
      "execution_count": null,
      "outputs": [
        {
          "output_type": "stream",
          "name": "stdout",
          "text": [
            "['hall', 11.25, 'kit', 18, 'liv', 20, 'bed', 10.75, 'bath', 10.5]\n"
          ]
        }
      ]
    },
    {
      "cell_type": "code",
      "source": [
        "upt = areas[-5:-1]\n",
        "print(upt)"
      ],
      "metadata": {
        "colab": {
          "base_uri": "https://localhost:8080/"
        },
        "id": "OwaBEHDYyIdk",
        "outputId": "633bfad2-789f-4583-abd6-10096f98b02a"
      },
      "execution_count": null,
      "outputs": [
        {
          "output_type": "stream",
          "name": "stdout",
          "text": [
            "[20, 'bedroom', 10.75, 'bathoroom']\n"
          ]
        }
      ]
    },
    {
      "cell_type": "code",
      "source": [
        "fam = [\"liz\",1.73,\"emma\", 1.68, \"mom\", 1.71,\"dad\",1.89]\n",
        "print(fam)"
      ],
      "metadata": {
        "colab": {
          "base_uri": "https://localhost:8080/"
        },
        "id": "AHpN_zreykzr",
        "outputId": "e0487f2a-f955-4625-a252-5a87b407adfa"
      },
      "execution_count": null,
      "outputs": [
        {
          "output_type": "stream",
          "name": "stdout",
          "text": [
            "['liz', 1.73, 'emma', 1.68, 'mom', 1.71, 'dad', 1.89]\n"
          ]
        }
      ]
    },
    {
      "cell_type": "code",
      "source": [
        "print(fam[7])"
      ],
      "metadata": {
        "colab": {
          "base_uri": "https://localhost:8080/"
        },
        "id": "kAcVc7gFzi9M",
        "outputId": "c9f55d59-33b8-4182-8711-f611f5416c2c"
      },
      "execution_count": null,
      "outputs": [
        {
          "output_type": "stream",
          "name": "stdout",
          "text": [
            "1.89\n"
          ]
        }
      ]
    },
    {
      "cell_type": "code",
      "source": [
        "print(fam[0:2])"
      ],
      "metadata": {
        "colab": {
          "base_uri": "https://localhost:8080/"
        },
        "id": "kZJrWFqXzvRc",
        "outputId": "3f07fcaa-dae2-48b0-ca41-95c901b5c1ee"
      },
      "execution_count": null,
      "outputs": [
        {
          "output_type": "stream",
          "name": "stdout",
          "text": [
            "['liz', 1.73]\n"
          ]
        }
      ]
    },
    {
      "cell_type": "code",
      "source": [
        "# como aumentar ou diminuir uma lista\n",
        "fam+[\"me\",1.79]"
      ],
      "metadata": {
        "colab": {
          "base_uri": "https://localhost:8080/"
        },
        "id": "cEdqlquw0Frj",
        "outputId": "5b0cbb06-d2fd-48c8-aa2a-e2d7d08b9821"
      },
      "execution_count": null,
      "outputs": [
        {
          "output_type": "execute_result",
          "data": {
            "text/plain": [
              "['liz', 1.73, 'emma', 1.68, 'mom', 1.71, 'dad', 1.89, 'me', 1.79]"
            ]
          },
          "metadata": {},
          "execution_count": 21
        }
      ]
    },
    {
      "cell_type": "code",
      "source": [
        "print(fam)"
      ],
      "metadata": {
        "colab": {
          "base_uri": "https://localhost:8080/"
        },
        "id": "_3xgypGm0aMp",
        "outputId": "a4712f30-fc72-4286-bc46-d01d92b52b7e"
      },
      "execution_count": null,
      "outputs": [
        {
          "output_type": "stream",
          "name": "stdout",
          "text": [
            "['liz', 1.73, 'emma', 1.68, 'mom', 1.71, 'dad', 1.89]\n"
          ]
        }
      ]
    },
    {
      "cell_type": "code",
      "source": [
        "print(fam)\n",
        "fam_ext = fam+[\"me\",1.79]\n",
        "del(fam[2])\n",
        "print(fam)\n",
        "print(fam_ext)\n",
        "del( fam_ext[2])\n",
        "fam_ext"
      ],
      "metadata": {
        "colab": {
          "base_uri": "https://localhost:8080/"
        },
        "id": "14mpDv0H23Ez",
        "outputId": "2616d31a-f6da-4075-8fdd-f75ed6d3dde5"
      },
      "execution_count": null,
      "outputs": [
        {
          "output_type": "stream",
          "name": "stdout",
          "text": [
            "['liz', 1.73, 'emma', 1.68, 'mom', 1.71, 'dad', 1.89]\n",
            "['liz', 1.73, 1.68, 'mom', 1.71, 'dad', 1.89]\n",
            "['liz', 1.73, 'emma', 1.68, 'mom', 1.71, 'dad', 1.89, 'me', 1.79]\n"
          ]
        },
        {
          "output_type": "execute_result",
          "data": {
            "text/plain": [
              "['liz', 1.73, 1.68, 'mom', 1.71, 'dad', 1.89, 'me', 1.79]"
            ]
          },
          "metadata": {},
          "execution_count": 35
        }
      ]
    },
    {
      "cell_type": "code",
      "source": [
        "x = [\"a\",\"b\",\"c\"]\n",
        "y = x\n",
        "y[1] = \"z\"\n",
        "y"
      ],
      "metadata": {
        "colab": {
          "base_uri": "https://localhost:8080/"
        },
        "id": "-oh64Wry3FI9",
        "outputId": "f73d5cb3-25c0-49f2-fe90-5b9f0588ceaa"
      },
      "execution_count": null,
      "outputs": [
        {
          "output_type": "execute_result",
          "data": {
            "text/plain": [
              "['a', 'z', 'c']"
            ]
          },
          "metadata": {},
          "execution_count": 36
        }
      ]
    },
    {
      "cell_type": "code",
      "source": [
        "x"
      ],
      "metadata": {
        "colab": {
          "base_uri": "https://localhost:8080/"
        },
        "id": "IeDko-zY3dGJ",
        "outputId": "b246fb81-96ec-4b84-a7c8-e208e5731f47"
      },
      "execution_count": null,
      "outputs": [
        {
          "output_type": "execute_result",
          "data": {
            "text/plain": [
              "['a', 'z', 'c']"
            ]
          },
          "metadata": {},
          "execution_count": 37
        }
      ]
    },
    {
      "cell_type": "code",
      "source": [
        "x = [\"a\",\"b\",\"c\"]\n",
        "y = list(x) \n",
        "y[2] = \"d\"\n",
        "print(x)\n",
        "print(y)"
      ],
      "metadata": {
        "colab": {
          "base_uri": "https://localhost:8080/"
        },
        "id": "bDBqjSoa3oBR",
        "outputId": "ac4df12f-8780-40c5-c5cb-5457abdfa9c0"
      },
      "execution_count": null,
      "outputs": [
        {
          "output_type": "stream",
          "name": "stdout",
          "text": [
            "['a', 'b', 'c']\n",
            "['a', 'b', 'd']\n"
          ]
        }
      ]
    }
  ]
}