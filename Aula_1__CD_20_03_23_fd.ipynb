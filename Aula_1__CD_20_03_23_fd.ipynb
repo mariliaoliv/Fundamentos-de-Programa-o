{
  "nbformat": 4,
  "nbformat_minor": 0,
  "metadata": {
    "colab": {
      "provenance": [],
      "authorship_tag": "ABX9TyMboFUY16dGRPNKvXdVGj+f",
      "include_colab_link": true
    },
    "kernelspec": {
      "name": "python3",
      "display_name": "Python 3"
    },
    "language_info": {
      "name": "python"
    }
  },
  "cells": [
    {
      "cell_type": "markdown",
      "metadata": {
        "id": "view-in-github",
        "colab_type": "text"
      },
      "source": [
        "<a href=\"https://colab.research.google.com/github/mariliaoliv/Fundamentos-de-Programa-o/blob/main/Aula_1__CD_20_03_23_fd.ipynb\" target=\"_parent\"><img src=\"https://colab.research.google.com/assets/colab-badge.svg\" alt=\"Open In Colab\"/></a>"
      ]
    },
    {
      "cell_type": "code",
      "execution_count": 1,
      "metadata": {
        "id": "okWi0FTAEKup"
      },
      "outputs": [],
      "source": [
        "height = 1.79\n",
        "weight = 68.7"
      ]
    },
    {
      "cell_type": "code",
      "source": [
        "height"
      ],
      "metadata": {
        "colab": {
          "base_uri": "https://localhost:8080/"
        },
        "id": "iOAA11tZI9Bz",
        "outputId": "dc01293c-8720-46d8-9a96-a7e6aa99b96b"
      },
      "execution_count": 2,
      "outputs": [
        {
          "output_type": "execute_result",
          "data": {
            "text/plain": [
              "1.79"
            ]
          },
          "metadata": {},
          "execution_count": 2
        }
      ]
    },
    {
      "cell_type": "code",
      "source": [
        "fam = [1.73, 1.68, 1.71, 1.89]\n",
        "fam"
      ],
      "metadata": {
        "colab": {
          "base_uri": "https://localhost:8080/"
        },
        "id": "tnuxZHZY9aLS",
        "outputId": "02d8cc3c-1a90-4dcd-8c21-23a218c59c05"
      },
      "execution_count": 3,
      "outputs": [
        {
          "output_type": "execute_result",
          "data": {
            "text/plain": [
              "[1.73, 1.68, 1.71, 1.89]"
            ]
          },
          "metadata": {},
          "execution_count": 3
        }
      ]
    },
    {
      "cell_type": "code",
      "source": [
        "fam = ['roberta', 1.65,' mom', 1.60, 'leonardo', 1.70]\n",
        "fam2 = [['sister', 1.65],\n",
        "        ['mom', 1.60],\n",
        "        ['me', 1.62]]"
      ],
      "metadata": {
        "id": "EJMOD51E-MXd"
      },
      "execution_count": 15,
      "outputs": []
    },
    {
      "cell_type": "code",
      "source": [
        "type(fam)"
      ],
      "metadata": {
        "colab": {
          "base_uri": "https://localhost:8080/"
        },
        "id": "DdWPA1MoBMIG",
        "outputId": "81872d22-6cfa-4d44-f2d8-f2e9e02d0443"
      },
      "execution_count": 21,
      "outputs": [
        {
          "output_type": "execute_result",
          "data": {
            "text/plain": [
              "list"
            ]
          },
          "metadata": {},
          "execution_count": 21
        }
      ]
    },
    {
      "cell_type": "code",
      "source": [
        "type(fam2)"
      ],
      "metadata": {
        "colab": {
          "base_uri": "https://localhost:8080/"
        },
        "id": "aXvACxbRBQ0e",
        "outputId": "70b54224-113a-489b-bad9-c3ba0c805ba5"
      },
      "execution_count": 22,
      "outputs": [
        {
          "output_type": "execute_result",
          "data": {
            "text/plain": [
              "list"
            ]
          },
          "metadata": {},
          "execution_count": 22
        }
      ]
    },
    {
      "cell_type": "markdown",
      "source": [],
      "metadata": {
        "id": "HpDI150EEP3j"
      }
    },
    {
      "cell_type": "code",
      "source": [
        "# áreas dos compartimentos(em metros quadrados)\n",
        "hall = 11.25\n",
        "kit = 18\n",
        "liv = 20\n",
        "bed = 10.75\n",
        "bath = 9.50\n",
        "# criar lista das áreas \n",
        "áreas = ['hall', 11.25, 'kit', 18, 'liv', 20, 'bed', 10.75, 'bath', 9.50]\n",
        "# print áreas\n",
        "print(áreas)"
      ],
      "metadata": {
        "colab": {
          "base_uri": "https://localhost:8080/"
        },
        "id": "46HjA6ciBdhi",
        "outputId": "b34f18b2-5759-4919-ad1c-9b3551d71285"
      },
      "execution_count": 30,
      "outputs": [
        {
          "output_type": "stream",
          "name": "stdout",
          "text": [
            "['hall', 11.25, 'kit', 18, 'liv', 20, 'bed', 10.75, 'bath', 9.5]\n"
          ]
        }
      ]
    },
    {
      "cell_type": "code",
      "source": [
        "# áreas dos compartimentos(em metros quadrados)\n",
        "hall = 11.25\n",
        "kit = 18\n",
        "liv = 20\n",
        "bed = 10.75\n",
        "bath = 9.50\n",
        "# criar lista das áreas \n",
        "áreas = [hall, 11.25, kit, 18, liv, 20, bed, 10.75, bath, 9.50]\n",
        "# print áreas\n",
        "print(áreas)"
      ],
      "metadata": {
        "colab": {
          "base_uri": "https://localhost:8080/"
        },
        "id": "2aAfEEDMEWd4",
        "outputId": "d9ca2537-23e1-4a1a-b0fd-3a64d4ac13c3"
      },
      "execution_count": 31,
      "outputs": [
        {
          "output_type": "stream",
          "name": "stdout",
          "text": [
            "[11.25, 11.25, 18, 18, 20, 20, 10.75, 10.75, 9.5, 9.5]\n"
          ]
        }
      ]
    },
    {
      "cell_type": "code",
      "source": [
        "A. [1, 3, 4, 2] #lista de quatro números inteiros\n",
        "B. [[1, 2, 3],[4, 5, 7]] # duas listas de números inteiros contidas em uma lista\n",
        "C. [1+2, \"a\"*5, 3] #lista com soma, "
      ],
      "metadata": {
        "id": "oQMD2FK3FWHI"
      },
      "execution_count": null,
      "outputs": []
    },
    {
      "cell_type": "code",
      "source": [
        "# áreas dos compartimentos(em metros quadrados)\n",
        "hall = 11.25\n",
        "kit = 18\n",
        "liv = 20\n",
        "bed = 10.75\n",
        "bath = 9.50\n",
        "# house information as list of lists\n",
        "house = [[\"hal\", 11.25, \"kit\", 18, \"liv\", 20, \"bed, 10.75\", \"bath\", 9.50]]\n",
        "print(house)"
      ],
      "metadata": {
        "colab": {
          "base_uri": "https://localhost:8080/"
        },
        "id": "bzxhvg7GGyKC",
        "outputId": "64586c40-cef2-4120-aa94-ad11cf0c582c"
      },
      "execution_count": 33,
      "outputs": [
        {
          "output_type": "stream",
          "name": "stdout",
          "text": [
            "[['hal', 11.25, 'kit', 18, 'liv', 20, 'bed, 10.75', 'bath', 9.5]]\n"
          ]
        }
      ]
    },
    {
      "cell_type": "code",
      "source": [
        "print(fam[3])\n",
        "print(fam[2])"
      ],
      "metadata": {
        "colab": {
          "base_uri": "https://localhost:8080/"
        },
        "id": "du0IXSGUIkmX",
        "outputId": "697fa78b-cc03-49d1-bdb5-a05b02aac717"
      },
      "execution_count": 40,
      "outputs": [
        {
          "output_type": "stream",
          "name": "stdout",
          "text": [
            "1.6\n",
            " mom\n"
          ]
        }
      ]
    },
    {
      "cell_type": "code",
      "source": [
        "fam[4]"
      ],
      "metadata": {
        "colab": {
          "base_uri": "https://localhost:8080/",
          "height": 36
        },
        "id": "70LImuMsJRyL",
        "outputId": "1fcbdb64-5813-461e-8138-3ef253ee94ca"
      },
      "execution_count": 38,
      "outputs": [
        {
          "output_type": "execute_result",
          "data": {
            "text/plain": [
              "'leonardo'"
            ],
            "application/vnd.google.colaboratory.intrinsic+json": {
              "type": "string"
            }
          },
          "metadata": {},
          "execution_count": 38
        }
      ]
    },
    {
      "cell_type": "code",
      "source": [
        "fam[-1]"
      ],
      "metadata": {
        "colab": {
          "base_uri": "https://localhost:8080/"
        },
        "id": "HmkNAYRWJpCI",
        "outputId": "a77062d2-ca24-44d2-ccb1-bc728c759d4b"
      },
      "execution_count": 39,
      "outputs": [
        {
          "output_type": "execute_result",
          "data": {
            "text/plain": [
              "1.7"
            ]
          },
          "metadata": {},
          "execution_count": 39
        }
      ]
    },
    {
      "cell_type": "code",
      "source": [
        "fam"
      ],
      "metadata": {
        "colab": {
          "base_uri": "https://localhost:8080/"
        },
        "id": "2JJFHQ0u_Ee-",
        "outputId": "8650e697-f93f-4836-8e08-20eb84c8ae05"
      },
      "execution_count": 18,
      "outputs": [
        {
          "output_type": "execute_result",
          "data": {
            "text/plain": [
              "['roberta', 1.65, ' mom', 1.6, 'leonardo', 1.7]"
            ]
          },
          "metadata": {},
          "execution_count": 18
        }
      ]
    },
    {
      "cell_type": "code",
      "source": [
        "fam[2:4]"
      ],
      "metadata": {
        "colab": {
          "base_uri": "https://localhost:8080/"
        },
        "id": "rhVCqPS2KNco",
        "outputId": "43e33b44-7e10-48e6-9dc2-f0b83b93be68"
      },
      "execution_count": 41,
      "outputs": [
        {
          "output_type": "execute_result",
          "data": {
            "text/plain": [
              "[' mom', 1.6]"
            ]
          },
          "metadata": {},
          "execution_count": 41
        }
      ]
    },
    {
      "cell_type": "code",
      "source": [
        "fam[1:5]"
      ],
      "metadata": {
        "colab": {
          "base_uri": "https://localhost:8080/"
        },
        "id": "0w6Mf74aKWKl",
        "outputId": "934d91a5-46fb-4022-8e54-1feef52dc4b3"
      },
      "execution_count": 42,
      "outputs": [
        {
          "output_type": "execute_result",
          "data": {
            "text/plain": [
              "[1.65, ' mom', 1.6, 'leonardo']"
            ]
          },
          "metadata": {},
          "execution_count": 42
        }
      ]
    },
    {
      "cell_type": "code",
      "source": [
        "fam2"
      ],
      "metadata": {
        "colab": {
          "base_uri": "https://localhost:8080/"
        },
        "id": "wkqN_SM3_2kG",
        "outputId": "b785d15d-a3c5-48b1-891b-1bb1d3a66790"
      },
      "execution_count": 20,
      "outputs": [
        {
          "output_type": "execute_result",
          "data": {
            "text/plain": [
              "[['sister', 1.65], ['mom', 1.6], ['me', 1.62]]"
            ]
          },
          "metadata": {},
          "execution_count": 20
        }
      ]
    },
    {
      "cell_type": "code",
      "source": [
        "fam[:]"
      ],
      "metadata": {
        "colab": {
          "base_uri": "https://localhost:8080/"
        },
        "id": "CjWXBgnNKhYE",
        "outputId": "82f9d5bf-4e23-408d-cf34-2a287cc711d4"
      },
      "execution_count": 44,
      "outputs": [
        {
          "output_type": "execute_result",
          "data": {
            "text/plain": [
              "['roberta', 1.65, ' mom', 1.6, 'leonardo', 1.7]"
            ]
          },
          "metadata": {},
          "execution_count": 44
        }
      ]
    },
    {
      "cell_type": "code",
      "source": [
        "fam[:4]"
      ],
      "metadata": {
        "colab": {
          "base_uri": "https://localhost:8080/"
        },
        "id": "2TVrvpSBLcW3",
        "outputId": "dc7e4dcf-cd9e-45e2-f9b0-201155cab301"
      },
      "execution_count": 45,
      "outputs": [
        {
          "output_type": "execute_result",
          "data": {
            "text/plain": [
              "['roberta', 1.65, ' mom', 1.6]"
            ]
          },
          "metadata": {},
          "execution_count": 45
        }
      ]
    },
    {
      "cell_type": "code",
      "source": [
        "fam[4:]"
      ],
      "metadata": {
        "colab": {
          "base_uri": "https://localhost:8080/"
        },
        "id": "gkaKbuSKLg8v",
        "outputId": "f8321744-3ad0-4be4-feba-aea16f5121a3"
      },
      "execution_count": 46,
      "outputs": [
        {
          "output_type": "execute_result",
          "data": {
            "text/plain": [
              "['leonardo', 1.7]"
            ]
          },
          "metadata": {},
          "execution_count": 46
        }
      ]
    },
    {
      "cell_type": "code",
      "source": [
        "# create the areas list\n",
        "areas = [\"hallway\" , 11.25, \"kitchen\", 18, \"living room\", 20, \"bedroom\", 10.75, \"bathoom\", 9.50] \n",
        "# print do segundo elemento\n",
        "print(areas[2])\n",
        "# print do ultimo elemento\n",
        "print(areas[-1])\n",
        "# print da area de living room\n",
        "print(areas[5])"
      ],
      "metadata": {
        "colab": {
          "base_uri": "https://localhost:8080/"
        },
        "id": "8va-QhphLqwt",
        "outputId": "9c26196b-c838-4f14-8720-ca1790243153"
      },
      "execution_count": 56,
      "outputs": [
        {
          "output_type": "stream",
          "name": "stdout",
          "text": [
            "kitchen\n",
            "9.5\n",
            "20\n"
          ]
        }
      ]
    },
    {
      "cell_type": "code",
      "source": [],
      "metadata": {
        "id": "hxrhYAooMV7d"
      },
      "execution_count": null,
      "outputs": []
    },
    {
      "cell_type": "code",
      "source": [
        "68.7/1.79**2"
      ],
      "metadata": {
        "colab": {
          "base_uri": "https://localhost:8080/"
        },
        "id": "Qw9Z_ImAJ4DJ",
        "outputId": "57495b3a-c1e8-4c37-ec3f-6a35b9957a0c"
      },
      "execution_count": null,
      "outputs": [
        {
          "output_type": "execute_result",
          "data": {
            "text/plain": [
              "21.44127836209856"
            ]
          },
          "metadata": {},
          "execution_count": 7
        }
      ]
    },
    {
      "cell_type": "code",
      "source": [
        "weight/height**2"
      ],
      "metadata": {
        "colab": {
          "base_uri": "https://localhost:8080/"
        },
        "id": "BqzGbdyQKQr4",
        "outputId": "8a100473-05be-412c-c1e1-f1abbc6ed9a0"
      },
      "execution_count": null,
      "outputs": [
        {
          "output_type": "execute_result",
          "data": {
            "text/plain": [
              "21.44127836209856"
            ]
          },
          "metadata": {},
          "execution_count": 8
        }
      ]
    },
    {
      "cell_type": "code",
      "source": [
        "bmi=weight/height**2\n",
        "bmi"
      ],
      "metadata": {
        "colab": {
          "base_uri": "https://localhost:8080/"
        },
        "id": "Kt627bsbKbpC",
        "outputId": "f2cdae4b-633d-4cf8-a711-66108af1ca33"
      },
      "execution_count": null,
      "outputs": [
        {
          "output_type": "execute_result",
          "data": {
            "text/plain": [
              "21.44127836209856"
            ]
          },
          "metadata": {},
          "execution_count": 12
        }
      ]
    },
    {
      "cell_type": "code",
      "source": [
        "bmi=weight/height**2\n",
        "print(bmi)"
      ],
      "metadata": {
        "colab": {
          "base_uri": "https://localhost:8080/"
        },
        "id": "x0jwb_QjMRCI",
        "outputId": "31c0754f-b418-4390-9088-0a1770ac8b05"
      },
      "execution_count": null,
      "outputs": [
        {
          "output_type": "stream",
          "name": "stdout",
          "text": [
            "21.44127836209856\n"
          ]
        }
      ]
    },
    {
      "cell_type": "code",
      "source": [
        "x=1.98\n",
        "type(x)"
      ],
      "metadata": {
        "colab": {
          "base_uri": "https://localhost:8080/"
        },
        "id": "c4fLJfOM-ybO",
        "outputId": "ea1ec8d7-1b3a-4175-db58-5c277755722c"
      },
      "execution_count": null,
      "outputs": [
        {
          "output_type": "execute_result",
          "data": {
            "text/plain": [
              "float"
            ]
          },
          "metadata": {},
          "execution_count": 6
        }
      ]
    },
    {
      "cell_type": "code",
      "source": [
        "type(bmi)"
      ],
      "metadata": {
        "colab": {
          "base_uri": "https://localhost:8080/"
        },
        "id": "2cQw1-i7NOgS",
        "outputId": "5dae06da-0572-4675-d601-869e1d63325e"
      },
      "execution_count": null,
      "outputs": [
        {
          "output_type": "execute_result",
          "data": {
            "text/plain": [
              "float"
            ]
          },
          "metadata": {},
          "execution_count": 14
        }
      ]
    },
    {
      "cell_type": "code",
      "source": [
        "day_of_week=5\n",
        "type(day_of_week)"
      ],
      "metadata": {
        "colab": {
          "base_uri": "https://localhost:8080/"
        },
        "id": "Y8jLFpOHNV7Q",
        "outputId": "a6b7ae50-49d1-4a13-a7cb-52778e16572d"
      },
      "execution_count": null,
      "outputs": [
        {
          "output_type": "execute_result",
          "data": {
            "text/plain": [
              "int"
            ]
          },
          "metadata": {},
          "execution_count": 15
        }
      ]
    },
    {
      "cell_type": "code",
      "source": [
        "x=\"body mass index\"\n",
        "y='this works to'\n",
        "type(y)"
      ],
      "metadata": {
        "colab": {
          "base_uri": "https://localhost:8080/"
        },
        "id": "wyVQu3WMNuIg",
        "outputId": "4e59c878-c83e-4440-ac94-0ce10f9552b0"
      },
      "execution_count": null,
      "outputs": [
        {
          "output_type": "execute_result",
          "data": {
            "text/plain": [
              "str"
            ]
          },
          "metadata": {},
          "execution_count": 17
        }
      ]
    },
    {
      "cell_type": "code",
      "source": [
        "z=True\n",
        "type(z)"
      ],
      "metadata": {
        "colab": {
          "base_uri": "https://localhost:8080/"
        },
        "id": "3Vn1bHABOT7Y",
        "outputId": "86bf8198-20db-4d6a-8cb7-88fc10fc1a5a"
      },
      "execution_count": null,
      "outputs": [
        {
          "output_type": "execute_result",
          "data": {
            "text/plain": [
              "bool"
            ]
          },
          "metadata": {},
          "execution_count": 18
        }
      ]
    },
    {
      "cell_type": "code",
      "source": [
        "'mari'+'lia'\n"
      ],
      "metadata": {
        "colab": {
          "base_uri": "https://localhost:8080/",
          "height": 35
        },
        "id": "qGm7023aPX7T",
        "outputId": "5f753d73-ad44-4796-cba1-c9e69f26e7c1"
      },
      "execution_count": null,
      "outputs": [
        {
          "output_type": "execute_result",
          "data": {
            "text/plain": [
              "'marilia'"
            ],
            "application/vnd.google.colaboratory.intrinsic+json": {
              "type": "string"
            }
          },
          "metadata": {},
          "execution_count": 20
        }
      ]
    },
    {
      "cell_type": "code",
      "source": [
        "y=True\n",
        "type(y)"
      ],
      "metadata": {
        "colab": {
          "base_uri": "https://localhost:8080/"
        },
        "id": "IEMSWK8m_K4v",
        "outputId": "855f52bd-52bd-45e2-b7c5-c063c068c8aa"
      },
      "execution_count": null,
      "outputs": [
        {
          "output_type": "execute_result",
          "data": {
            "text/plain": [
              "bool"
            ]
          },
          "metadata": {},
          "execution_count": 2
        }
      ]
    },
    {
      "cell_type": "code",
      "source": [
        "j=100*1.1**7\n",
        "print(j)"
      ],
      "metadata": {
        "colab": {
          "base_uri": "https://localhost:8080/"
        },
        "id": "pPZkfCpsrL3t",
        "outputId": "cecc6f81-982e-4efb-cfce-7bce5c44a570"
      },
      "execution_count": null,
      "outputs": [
        {
          "output_type": "stream",
          "name": "stdout",
          "text": [
            "194.87171000000012\n"
          ]
        }
      ]
    },
    {
      "cell_type": "code",
      "source": [
        "ab='mari'\n",
        "cd='lia'\n",
        "print(ab+cd)\n"
      ],
      "metadata": {
        "colab": {
          "base_uri": "https://localhost:8080/"
        },
        "id": "OSktyinvQCa3",
        "outputId": "d820a5a1-8250-4f20-c607-204073c262f9"
      },
      "execution_count": null,
      "outputs": [
        {
          "output_type": "stream",
          "name": "stdout",
          "text": [
            "marilia\n"
          ]
        }
      ]
    },
    {
      "cell_type": "code",
      "source": [
        "type(ab+cd)"
      ],
      "metadata": {
        "colab": {
          "base_uri": "https://localhost:8080/"
        },
        "id": "qJlr7pNKQ1zu",
        "outputId": "02940669-8f2a-464a-c963-76f8d1abacf8"
      },
      "execution_count": null,
      "outputs": [
        {
          "output_type": "execute_result",
          "data": {
            "text/plain": [
              "str"
            ]
          },
          "metadata": {},
          "execution_count": 23
        }
      ]
    },
    {
      "cell_type": "code",
      "source": [
        "#example\n",
        "print(5/8)"
      ],
      "metadata": {
        "colab": {
          "base_uri": "https://localhost:8080/"
        },
        "id": "ApsUPAljRGI5",
        "outputId": "e3471e45-7a79-49ae-8b5b-0c153a34a25e"
      },
      "execution_count": null,
      "outputs": [
        {
          "output_type": "stream",
          "name": "stdout",
          "text": [
            "0.625\n"
          ]
        }
      ]
    },
    {
      "cell_type": "code",
      "source": [
        "#example\n",
        "print(7+8)\n"
      ],
      "metadata": {
        "colab": {
          "base_uri": "https://localhost:8080/"
        },
        "id": "pj4KNECyRb_W",
        "outputId": "4bdbae0a-256b-4b3b-a568-cfb323b1f776"
      },
      "execution_count": null,
      "outputs": [
        {
          "output_type": "stream",
          "name": "stdout",
          "text": [
            "15\n"
          ]
        }
      ]
    },
    {
      "cell_type": "code",
      "source": [
        "#istoéumasoma\n",
        "print(5+9)"
      ],
      "metadata": {
        "colab": {
          "base_uri": "https://localhost:8080/"
        },
        "id": "FxB-jqVgR1Zf",
        "outputId": "943820cd-487b-4fcc-bc84-1d4c10033861"
      },
      "execution_count": null,
      "outputs": [
        {
          "output_type": "stream",
          "name": "stdout",
          "text": [
            "14\n"
          ]
        }
      ]
    },
    {
      "cell_type": "code",
      "source": [
        "a=5\n",
        "b=3\n",
        "print(5+3)\n",
        "print(5-3)"
      ],
      "metadata": {
        "colab": {
          "base_uri": "https://localhost:8080/"
        },
        "id": "-hneU6xeSj9f",
        "outputId": "927c2729-a2dd-476f-bb76-2a4ad8ec3b2b"
      },
      "execution_count": null,
      "outputs": [
        {
          "output_type": "stream",
          "name": "stdout",
          "text": [
            "8\n",
            "2\n"
          ]
        }
      ]
    },
    {
      "cell_type": "code",
      "source": [
        "a=5\n",
        "b=3\n",
        "print(5*3)\n",
        "print(5%3)"
      ],
      "metadata": {
        "colab": {
          "base_uri": "https://localhost:8080/"
        },
        "id": "7PQ9FvtMTmXm",
        "outputId": "564c9465-d6df-4caa-e6c9-3df555d900e4"
      },
      "execution_count": null,
      "outputs": [
        {
          "output_type": "stream",
          "name": "stdout",
          "text": [
            "15\n",
            "2\n"
          ]
        }
      ]
    },
    {
      "cell_type": "code",
      "source": [
        "savings=100\n",
        "growth_multiplaier=1.1\n",
        "desc=\"compound interest\"\n",
        "# assing product of grow_multiplier and savings to year1\n",
        "year1=100*1.1\n",
        "# print tr type of year1\n",
        "print(type(year1))\n",
        "#assing sum of desc and desc doubledesc\n",
        "doubledesc=desc+desc\n",
        "# print out doubledesc\n",
        "print(doubledesc)\n"
      ],
      "metadata": {
        "colab": {
          "base_uri": "https://localhost:8080/"
        },
        "id": "qGhnv5Lis1cK",
        "outputId": "f45eb706-7f90-41aa-d739-7699220d575f"
      },
      "execution_count": null,
      "outputs": [
        {
          "output_type": "stream",
          "name": "stdout",
          "text": [
            "<class 'float'>\n",
            "compound interestcompound interest\n"
          ]
        }
      ]
    },
    {
      "cell_type": "code",
      "source": [
        "pi_string=\"3.1415926\"\n",
        "print(type(pi_string))\n",
        "pi_float=float(pi_string)\n",
        "print(type(pi_float))"
      ],
      "metadata": {
        "colab": {
          "base_uri": "https://localhost:8080/"
        },
        "id": "jNgBncXIxHNb",
        "outputId": "cc0ed647-9f0e-4a00-8e82-b7da2b0b90b6"
      },
      "execution_count": null,
      "outputs": [
        {
          "output_type": "stream",
          "name": "stdout",
          "text": [
            "<class 'str'>\n",
            "<class 'float'>\n"
          ]
        }
      ]
    },
    {
      "cell_type": "code",
      "source": [
        "saving=100\n",
        "result=100*1.10**7\n",
        "print(\"I started with$\"=savings+\"and now have$\"+result+\"awesome!\")"
      ],
      "metadata": {
        "colab": {
          "base_uri": "https://localhost:8080/",
          "height": 130
        },
        "id": "NAzkcj7MywAL",
        "outputId": "5f95c8dd-fac2-4790-ce17-ebbc699d5127"
      },
      "execution_count": null,
      "outputs": [
        {
          "output_type": "error",
          "ename": "SyntaxError",
          "evalue": "ignored",
          "traceback": [
            "\u001b[0;36m  File \u001b[0;32m\"<ipython-input-22-315741586e35>\"\u001b[0;36m, line \u001b[0;32m3\u001b[0m\n\u001b[0;31m    print(\"I started with$\"=savings+\"and now have$\"+result+\"awesome!\")\u001b[0m\n\u001b[0m          ^\u001b[0m\n\u001b[0;31mSyntaxError\u001b[0m\u001b[0;31m:\u001b[0m expression cannot contain assignment, perhaps you meant \"==\"?\n"
          ]
        }
      ]
    },
    {
      "cell_type": "code",
      "source": [
        "#erro do codigo foi str nao soma com float nem int\n"
      ],
      "metadata": {
        "id": "m9rpzXBP0Owj"
      },
      "execution_count": null,
      "outputs": []
    },
    {
      "cell_type": "code",
      "source": [
        "saving=100\n",
        "result=100*1.10**7\n",
        "print(\"I started with$\"+str(savings)+\"and now have$\"+str(result)+\".awesome!\")\n"
      ],
      "metadata": {
        "colab": {
          "base_uri": "https://localhost:8080/"
        },
        "outputId": "d4e8611f-40de-4b3a-85a7-2fb453a5c68c",
        "id": "Th1w7p-t0r_g"
      },
      "execution_count": null,
      "outputs": [
        {
          "output_type": "stream",
          "name": "stdout",
          "text": [
            "I started with$100and now have$194.87171000000012.awesome!\n"
          ]
        }
      ]
    },
    {
      "cell_type": "code",
      "source": [],
      "metadata": {
        "id": "TJjO_59Z5rvD"
      },
      "execution_count": null,
      "outputs": []
    },
    {
      "cell_type": "code",
      "source": [
        "saving=100\n",
        "result=100*1.10**7\n",
        "print(\"I started with$\",savings,\"and now have$\",result,\"awesome!\")\n"
      ],
      "metadata": {
        "colab": {
          "base_uri": "https://localhost:8080/"
        },
        "id": "4ZmQ-Cpq1ski",
        "outputId": "d59ea49e-7a41-4b3b-f5ee-450e1bb7042c"
      },
      "execution_count": null,
      "outputs": [
        {
          "output_type": "stream",
          "name": "stdout",
          "text": [
            "I started with$ 100 and now have$ 194.87171000000012 awesome!\n"
          ]
        }
      ]
    }
  ]
}