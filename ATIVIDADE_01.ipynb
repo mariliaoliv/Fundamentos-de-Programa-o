{
  "nbformat": 4,
  "nbformat_minor": 0,
  "metadata": {
    "colab": {
      "provenance": [],
      "authorship_tag": "ABX9TyNJYgXvgIZC3B+ebx0Tj0iQ",
      "include_colab_link": true
    },
    "kernelspec": {
      "name": "python3",
      "display_name": "Python 3"
    },
    "language_info": {
      "name": "python"
    }
  },
  "cells": [
    {
      "cell_type": "markdown",
      "metadata": {
        "id": "view-in-github",
        "colab_type": "text"
      },
      "source": [
        "<a href=\"https://colab.research.google.com/github/mariliaoliv/Fundamentos-de-Programa-o/blob/main/ATIVIDADE_01.ipynb\" target=\"_parent\"><img src=\"https://colab.research.google.com/assets/colab-badge.svg\" alt=\"Open In Colab\"/></a>"
      ]
    },
    {
      "cell_type": "markdown",
      "source": [
        "1) Elabore um código em que existe as variáveis : aluno, nota1, nota2,nota3, media. Neste código você deve escolher uma string para a variável aluno, float para cada nota. Pesquise o cálculo da média aritmética e aplique o resuldado do cálculo na variável media. Por fim, usando o comando print, mostre o nome do aluno ao lado de sua media. Use a função print para mostrar o tipo da variável aluno e tipo da variável media."
      ],
      "metadata": {
        "id": "pBKcHTazUj_N"
      }
    },
    {
      "cell_type": "code",
      "source": [
        "#Resposta\n",
        "aluno = \"Itachi\"\n",
        "nota1 = 8.5\n",
        "nota2 = 9.5\n",
        "nota3 = 10\n",
        "media = (nota1+nota2+nota3)/3\n",
        "#exibição da variável media\n",
        "print(media) \n",
        "#exibição do tipo da variavel aluno\n",
        "print(type(aluno))\n",
        "#exibição do tipo da variavel media\n",
        "print(type(media))"
      ],
      "metadata": {
        "colab": {
          "base_uri": "https://localhost:8080/"
        },
        "id": "yi6_ZZbvUwst",
        "outputId": "43d87449-8a93-4211-89b4-26cfa3a3f26b"
      },
      "execution_count": null,
      "outputs": [
        {
          "output_type": "stream",
          "name": "stdout",
          "text": [
            "9.333333333333334\n",
            "<class 'str'>\n",
            "<class 'float'>\n"
          ]
        }
      ]
    },
    {
      "cell_type": "markdown",
      "source": [
        "2) ELabore um código que realiza a concatenção de strings para formar um nome. Ao fim, exiba, através do comando print, o nome concatenado (nome_completo). "
      ],
      "metadata": {
        "id": "sUA7ax0kU1qm"
      }
    },
    {
      "cell_type": "code",
      "source": [
        "#RESPOSTA\n",
        "nome = 'Itachi'\n",
        "sobrenome = ' Uchiha' \n",
        "nome_completo = (nome + sobrenome) \n",
        "#exibição do nome concatenado\n",
        "print(nome_completo)\n"
      ],
      "metadata": {
        "colab": {
          "base_uri": "https://localhost:8080/"
        },
        "id": "dPMPtvzFU9ym",
        "outputId": "66a4523f-aea7-44ff-91ec-8ba24a836c2e"
      },
      "execution_count": 4,
      "outputs": [
        {
          "output_type": "stream",
          "name": "stdout",
          "text": [
            "Itachi Uchiha\n"
          ]
        }
      ]
    },
    {
      "cell_type": "markdown",
      "source": [
        "3) Elabore um código em que seja criada uma lista de alimentos em forma de string. Nesta lista você deve escolher  10 alimentos.\n",
        "* a) realize o print do último alimento usando index negativo\n",
        "* b) realize o print do quarto elemento da lista\n",
        "* c) realize o print dos 5 primeiros elementos da lista\n",
        "* d) realize o print do 3 ultimos elementos da lista\n",
        "* e) realize o print do terceiro até o sétimo elemento da lista\n"
      ],
      "metadata": {
        "id": "OPI-KKA3VBSG"
      }
    },
    {
      "cell_type": "code",
      "source": [
        "#Resposta\n",
        "lista_de_alimentos = [\"macarrão\", \"feijão\", \"arroz\", \"carne\", \"cuscuz\", \"batata\", \"ovo\", \"leite\", \"queijo\", \"banana\"]\n",
        "#item a\n",
        "print(lista_de_alimentos[-1])\n",
        "#item b\n",
        "print(lista_de_alimentos[3])\n",
        "#item c\n",
        "print(lista_de_alimentos[0:5])\n",
        "#item d\n",
        "print(lista_de_alimentos[-3:])\n",
        "#item e\n",
        "print(lista_de_alimentos[2:7])"
      ],
      "metadata": {
        "colab": {
          "base_uri": "https://localhost:8080/"
        },
        "id": "G0mEcuGgVFDl",
        "outputId": "88777df6-5ceb-4c41-e339-2b8681c4b059"
      },
      "execution_count": 5,
      "outputs": [
        {
          "output_type": "stream",
          "name": "stdout",
          "text": [
            "banana\n",
            "carne\n",
            "['macarrão', 'feijão', 'arroz', 'carne', 'cuscuz']\n",
            "['leite', 'queijo', 'banana']\n",
            "['arroz', 'carne', 'cuscuz', 'batata', 'ovo']\n"
          ]
        }
      ]
    },
    {
      "cell_type": "markdown",
      "source": [
        "4) Adapte a lista de alimentos criada na questão 3 para incluir o preço da cada alimento. Após cada string você deve incluir um valor numérico que representa o preço do alimento\n",
        "* a) Crie uma variavel `gasto_total` que recebe a soma de todos os preços, acessando a lista pelos indexes.\n",
        "* b) mostre via print o valor da variável `gasto_total`\n",
        "* c) crie uma nova lista chamada `alimentos_mais_caros` que contem os 3 alimentos mais caros. Nessa lista deve conter os alimentos com valor ao lado. a inclusão dos elementos na lista deve ser via index. Ex: `lista_nova = [lista_antiga[2],lista_antiga[3]...]`\n",
        "* d) mostre via print a lista `alimentos_mais_caros`"
      ],
      "metadata": {
        "id": "gKvXBE_XVLyz"
      }
    },
    {
      "cell_type": "code",
      "source": [
        "#resposta\n",
        "lista_de_alimentos_com_preco = [\"macarrão\", 6.75, \"feijão\", 9.99,\n",
        "                                 \"arroz\", 8.50, \"carne\", 20.0, \"cuscuz\", 2.19, \"batata\", 2.0, \"ovo\", 1.50, \"leite\", 7.90,\n",
        "                                   \"queijo\",30.0 , \"banana\", 1.50]\n",
        "#item a\n",
        "gasto_total = (lista_de_alimentos_com_preco[1]+lista_de_alimentos_com_preco[3]+lista_de_alimentos_com_preco[5]+ \n",
        "             lista_de_alimentos_com_preco[7]+lista_de_alimentos_com_preco[9]+lista_de_alimentos_com_preco[11]+\n",
        "             lista_de_alimentos_com_preco[13]+lista_de_alimentos_com_preco[15]+lista_de_alimentos_com_preco[17]+\n",
        "               lista_de_alimentos_com_preco[19]) \n",
        "#item b\n",
        "print(gasto_total)\n",
        "#item c\n",
        "alimentos_mais_caros = [lista_de_alimentos_com_preco[2:4], lista_de_alimentos_com_preco[6:8], lista_de_alimentos_com_preco[16:18]]\n",
        "#item d\n",
        "print(alimentos_mais_caros)"
      ],
      "metadata": {
        "colab": {
          "base_uri": "https://localhost:8080/"
        },
        "id": "5zTHz0RXVQwb",
        "outputId": "1351e094-ae89-4b02-ecbf-66f2fc8c10c3"
      },
      "execution_count": null,
      "outputs": [
        {
          "output_type": "stream",
          "name": "stdout",
          "text": [
            "90.33\n",
            "[['feijão', 9.99], ['carne', 20.0], ['queijo', 30.0]]\n"
          ]
        }
      ]
    },
    {
      "cell_type": "markdown",
      "source": [
        "5) Adpate a lista de alimentos criada na questão 4. Agora a estrutura deve ser uma lista de listas. cada elemento com preço deve ser um lista, ou seja, a lista de alimentos deve conter 5 listas, em que cada lista possui um alimento e seu preço.\n",
        "* a) Crie uma variável `lista3` para ammazenar a terceiira lista contida na lista de alimentos. \n",
        "* b) Exiba a variável `lista3` \n",
        "* c) Crie uma variável `lista2a4` para armazenar da segunda até a quarta lista contida na lsita de alimentos.\n",
        "* d) Acessando os indexes da lista de alimentos no modo exemplo `lista[id1][id2]` realize os prints:\n",
        "** d1) do preço do terceiro alimento da lista\n",
        "** d2) do alimento da quarta lista\n",
        "** d3) do preço do quinto elemento da lista\n",
        "** d4) do alimento da primeira lista."
      ],
      "metadata": {
        "id": "QL4cHGMGVW9E"
      }
    },
    {
      "cell_type": "code",
      "source": [
        "#resposta\n",
        "lista_de_alimentos_adaptada = [[\"macarrão\", 6.75], [\"feijão\", 9.99],\n",
        "                                [\"arroz\", 8.50], [\"carne\", 20.0], [\"cuscuz\", 2.19], [\"batata\", 2.0],\n",
        "                                  [\"ovo\", 1.50], [\"leite\", 7.90],\n",
        "                                   [\"queijo\",30.0] , [\"banana\", 1.50]]\n",
        "#item a\n",
        "lista3 = (lista_de_alimentos_adaptada[2])\n",
        "#item b\n",
        "print(lista3)\n",
        "#item c\n",
        "lista2a4 = (lista_de_alimentos_adaptada[1:4])\n",
        "#item d1\n",
        "print(lista_de_alimentos_adaptada[2][1])\n",
        "#item d2\n",
        "print(lista_de_alimentos_adaptada[3][0])\n",
        "#item d3\n",
        "print(lista_de_alimentos_adaptada[4][1])\n",
        "#item d4\n",
        "print(lista_de_alimentos_adaptada[0][0])\n"
      ],
      "metadata": {
        "colab": {
          "base_uri": "https://localhost:8080/"
        },
        "id": "B4wSiPf1Vdj7",
        "outputId": "24a3d1a9-299b-4384-fdd0-dc8aea68517c"
      },
      "execution_count": null,
      "outputs": [
        {
          "output_type": "stream",
          "name": "stdout",
          "text": [
            "['arroz', 8.5]\n",
            "8.5\n",
            "carne\n",
            "2.19\n",
            "macarrão\n"
          ]
        }
      ]
    }
  ]
}