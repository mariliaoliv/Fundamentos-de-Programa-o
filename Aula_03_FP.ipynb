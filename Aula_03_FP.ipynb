{
  "nbformat": 4,
  "nbformat_minor": 0,
  "metadata": {
    "colab": {
      "provenance": [],
      "authorship_tag": "ABX9TyMsCbivVYy036FjWLP/KRNn",
      "include_colab_link": true
    },
    "kernelspec": {
      "name": "python3",
      "display_name": "Python 3"
    },
    "language_info": {
      "name": "python"
    }
  },
  "cells": [
    {
      "cell_type": "markdown",
      "metadata": {
        "id": "view-in-github",
        "colab_type": "text"
      },
      "source": [
        "<a href=\"https://colab.research.google.com/github/mariliaoliv/Fundamentos-de-Programa-o/blob/main/Aula_03_FP.ipynb\" target=\"_parent\"><img src=\"https://colab.research.google.com/assets/colab-badge.svg\" alt=\"Open In Colab\"/></a>"
      ]
    },
    {
      "cell_type": "code",
      "source": [
        "fam = [64, 39, 30, 18]\n",
        "print(max(fam))"
      ],
      "metadata": {
        "colab": {
          "base_uri": "https://localhost:8080/"
        },
        "id": "38vDckhJCvZF",
        "outputId": "0c2bc415-60fb-477d-aceb-8501046e05a0"
      },
      "execution_count": 3,
      "outputs": [
        {
          "output_type": "stream",
          "name": "stdout",
          "text": [
            "64\n"
          ]
        }
      ]
    },
    {
      "cell_type": "code",
      "source": [
        "round(1.68, 1)"
      ],
      "metadata": {
        "colab": {
          "base_uri": "https://localhost:8080/"
        },
        "id": "a82gvUMeD6U1",
        "outputId": "ea7eab4a-c045-47cb-aee2-9213b04af47f"
      },
      "execution_count": 7,
      "outputs": [
        {
          "output_type": "execute_result",
          "data": {
            "text/plain": [
              "1.7"
            ]
          },
          "metadata": {},
          "execution_count": 7
        }
      ]
    },
    {
      "cell_type": "code",
      "source": [
        "round(1.68)"
      ],
      "metadata": {
        "colab": {
          "base_uri": "https://localhost:8080/"
        },
        "id": "4kaDZH55EOlX",
        "outputId": "17f7f40a-0a24-44b6-f1d3-b294f891c1d6"
      },
      "execution_count": 8,
      "outputs": [
        {
          "output_type": "execute_result",
          "data": {
            "text/plain": [
              "2"
            ]
          },
          "metadata": {},
          "execution_count": 8
        }
      ]
    },
    {
      "cell_type": "code",
      "source": [
        "help(round) # open up document"
      ],
      "metadata": {
        "colab": {
          "base_uri": "https://localhost:8080/"
        },
        "id": "MkRFAzHVESw8",
        "outputId": "a31136c9-73e1-4655-bc5d-b7f223cc2760"
      },
      "execution_count": 9,
      "outputs": [
        {
          "output_type": "stream",
          "name": "stdout",
          "text": [
            "Help on built-in function round in module builtins:\n",
            "\n",
            "round(number, ndigits=None)\n",
            "    Round a number to a given precision in decimal digits.\n",
            "    \n",
            "    The return value is an integer if ndigits is omitted or None.  Otherwise\n",
            "    the return value has the same type as the number.  ndigits may be negative.\n",
            "\n"
          ]
        }
      ]
    },
    {
      "cell_type": "markdown",
      "source": [
        "Na linha 6 realize o print do tipo de var1 usando a função type"
      ],
      "metadata": {
        "id": "Cyphm9M8EpV2"
      }
    },
    {
      "cell_type": "code",
      "source": [
        "# creat variables var1 and var2\n",
        "var1 = [1, 2, 3, 4]\n",
        "var2 = True\n",
        "# print out type of var1\n",
        "print(type(var1))\n",
        "# print out length of var1\n",
        "print(len(var1))\n",
        "# convert var2 to an integer: out2\n",
        "out2 = int(var2)\n",
        "print(out2)"
      ],
      "metadata": {
        "colab": {
          "base_uri": "https://localhost:8080/"
        },
        "id": "9GWRrNSsE20j",
        "outputId": "74d95e4e-7975-44c6-9430-b2a114db6280"
      },
      "execution_count": 13,
      "outputs": [
        {
          "output_type": "stream",
          "name": "stdout",
          "text": [
            "<class 'list'>\n",
            "4\n",
            "1\n"
          ]
        }
      ]
    },
    {
      "cell_type": "code",
      "source": [
        "# creat list first and second \n",
        "first = [11.25, 18, 20]\n",
        "second = [10.75, 9.50]\n",
        "# paste together and second: full\n",
        "full = (first+second)\n",
        "print(full)\n",
        "# sort fulll in descending order:\n",
        "# full_second \n",
        "# print full_soted\n",
        "print(sorted(full, reverse = True))\n",
        "# sorted (list, reverse = x)"
      ],
      "metadata": {
        "colab": {
          "base_uri": "https://localhost:8080/"
        },
        "id": "xePpQckrFb4N",
        "outputId": "cf9ac70f-5537-41d3-a8f5-d1a1b3e69383"
      },
      "execution_count": 18,
      "outputs": [
        {
          "output_type": "stream",
          "name": "stdout",
          "text": [
            "[11.25, 18, 20, 10.75, 9.5]\n",
            "[20, 18, 11.25, 10.75, 9.5]\n"
          ]
        }
      ]
    },
    {
      "cell_type": "code",
      "source": [
        "friends = [ \"kurt\", 17, \"daniel\", 18, \"danilo\", 19, \"lincon\", 22]\n",
        "print(friends.index(\"lincon\"))\n",
        "print(friends.count(19))\n"
      ],
      "metadata": {
        "colab": {
          "base_uri": "https://localhost:8080/"
        },
        "id": "XwwHlhUGKHNL",
        "outputId": "2243620d-2c74-4a1b-a067-1e9bc383129a"
      },
      "execution_count": 46,
      "outputs": [
        {
          "output_type": "stream",
          "name": "stdout",
          "text": [
            "6\n",
            "1\n"
          ]
        }
      ]
    },
    {
      "cell_type": "code",
      "source": [
        "friends.append(\"me\")\n",
        "friends"
      ],
      "metadata": {
        "colab": {
          "base_uri": "https://localhost:8080/"
        },
        "id": "v5ZHcP3bMnYp",
        "outputId": "195b666e-5446-413b-aed8-9b62e6652687"
      },
      "execution_count": 47,
      "outputs": [
        {
          "output_type": "execute_result",
          "data": {
            "text/plain": [
              "['kurt', 17, 'daniel', 18, 'danilo', 19, 'lincon', 22, 'me']"
            ]
          },
          "metadata": {},
          "execution_count": 47
        }
      ]
    },
    {
      "cell_type": "code",
      "source": [
        "friends.clear()"
      ],
      "metadata": {
        "id": "-dn5wRstMvOw"
      },
      "execution_count": 44,
      "outputs": []
    },
    {
      "cell_type": "code",
      "source": [
        "sister = 'roberta'\n",
        "sister.capitalize()"
      ],
      "metadata": {
        "colab": {
          "base_uri": "https://localhost:8080/",
          "height": 35
        },
        "id": "ralNoy3MM9Bx",
        "outputId": "057a8a9c-54f3-46a5-c3f6-29dec9a2be71"
      },
      "execution_count": 48,
      "outputs": [
        {
          "output_type": "execute_result",
          "data": {
            "text/plain": [
              "'Roberta'"
            ],
            "application/vnd.google.colaboratory.intrinsic+json": {
              "type": "string"
            }
          },
          "metadata": {},
          "execution_count": 48
        }
      ]
    },
    {
      "cell_type": "code",
      "source": [
        "sister.replace(\"ta\", \"to\")"
      ],
      "metadata": {
        "colab": {
          "base_uri": "https://localhost:8080/",
          "height": 35
        },
        "id": "KzcqOlf-NOHR",
        "outputId": "befc98ae-5d7f-411f-8f88-0af6eb6754df"
      },
      "execution_count": 52,
      "outputs": [
        {
          "output_type": "execute_result",
          "data": {
            "text/plain": [
              "'roberto'"
            ],
            "application/vnd.google.colaboratory.intrinsic+json": {
              "type": "string"
            }
          },
          "metadata": {},
          "execution_count": 52
        }
      ]
    },
    {
      "cell_type": "code",
      "source": [
        "# string to experient with: place\n",
        "place = \"poolhouse\"\n",
        "# use upper() on place: place_up\n",
        "place_up = place.upper()\n",
        "# print out place and place_up\n",
        "print(place_up)\n",
        "print(place)\n",
        "# print out the number of o's in place\n",
        "print(place.count('o'))"
      ],
      "metadata": {
        "colab": {
          "base_uri": "https://localhost:8080/"
        },
        "id": "EUqinWtAN7MG",
        "outputId": "74fdfcd1-394d-4cd6-b8ef-8086dab6e457"
      },
      "execution_count": 58,
      "outputs": [
        {
          "output_type": "stream",
          "name": "stdout",
          "text": [
            "POOLHOUSE\n",
            "poolhouse\n",
            "3\n"
          ]
        }
      ]
    }
  ]
}