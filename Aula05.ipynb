{
  "nbformat": 4,
  "nbformat_minor": 0,
  "metadata": {
    "colab": {
      "provenance": [],
      "authorship_tag": "ABX9TyNn28m8IPG2gv02Vxx05pNr",
      "include_colab_link": true
    },
    "kernelspec": {
      "name": "python3",
      "display_name": "Python 3"
    },
    "language_info": {
      "name": "python"
    }
  },
  "cells": [
    {
      "cell_type": "markdown",
      "metadata": {
        "id": "view-in-github",
        "colab_type": "text"
      },
      "source": [
        "<a href=\"https://colab.research.google.com/github/mariliaoliv/Fundamentos-de-Programa-o/blob/main/Aula05.ipynb\" target=\"_parent\"><img src=\"https://colab.research.google.com/assets/colab-badge.svg\" alt=\"Open In Colab\"/></a>"
      ]
    },
    {
      "cell_type": "code",
      "source": [
        "import numpy as np"
      ],
      "metadata": {
        "id": "ty9BI6N4F4Re"
      },
      "execution_count": null,
      "outputs": []
    },
    {
      "cell_type": "code",
      "source": [
        "np_2d = np.array([[1.73, 1.68, 1.71, 1.89, 1.79],\n",
        "                  [65.4, 59.2, 63.6, 88.4, 68.7]])\n",
        "print(np_2d)"
      ],
      "metadata": {
        "colab": {
          "base_uri": "https://localhost:8080/"
        },
        "id": "7JQGxTM1GB3u",
        "outputId": "f863299c-a82b-4a8c-c82b-7eb43a58aaa6"
      },
      "execution_count": null,
      "outputs": [
        {
          "output_type": "stream",
          "name": "stdout",
          "text": [
            "[[ 1.73  1.68  1.71  1.89  1.79]\n",
            " [65.4  59.2  63.6  88.4  68.7 ]]\n"
          ]
        }
      ]
    },
    {
      "cell_type": "code",
      "source": [
        "# mostra a quatidade de linhas e colunas\n",
        "print(np_2d.shape)"
      ],
      "metadata": {
        "colab": {
          "base_uri": "https://localhost:8080/"
        },
        "id": "jNYCAKEmGxQW",
        "outputId": "a01ac34f-f21e-4152-9ac4-4201c75a9ffc"
      },
      "execution_count": null,
      "outputs": [
        {
          "output_type": "stream",
          "name": "stdout",
          "text": [
            "(2, 5)\n"
          ]
        }
      ]
    },
    {
      "cell_type": "code",
      "source": [
        "np.array([[1.73, 1.68, 1.71, 1.89, 1.79],\n",
        "                  [65.4, 59.2, 63.6, 88.4, \"68.7\"]])"
      ],
      "metadata": {
        "colab": {
          "base_uri": "https://localhost:8080/"
        },
        "id": "k8YeR0OYHG31",
        "outputId": "4e6f9ff3-9963-42ae-cbdd-a60588195f3b"
      },
      "execution_count": null,
      "outputs": [
        {
          "output_type": "execute_result",
          "data": {
            "text/plain": [
              "array([['1.73', '1.68', '1.71', '1.89', '1.79'],\n",
              "       ['65.4', '59.2', '63.6', '88.4', '68.7']], dtype='<U32')"
            ]
          },
          "metadata": {},
          "execution_count": 14
        }
      ]
    },
    {
      "cell_type": "code",
      "source": [
        "np.array([[1.73, 1.68, 1.71, 1.89, 1.79],\n",
        "         [65.4, 59.2, 63.6, 88.4, 68.7],\n",
        "          [2.4, 45.6, 67.8, 12.4, 55.5]])\n"
      ],
      "metadata": {
        "colab": {
          "base_uri": "https://localhost:8080/"
        },
        "id": "fwsxPT2PHZ21",
        "outputId": "2e705065-168f-4272-b64e-a81f6cf6f36d"
      },
      "execution_count": null,
      "outputs": [
        {
          "output_type": "execute_result",
          "data": {
            "text/plain": [
              "array([[ 1.73,  1.68,  1.71,  1.89,  1.79],\n",
              "       [65.4 , 59.2 , 63.6 , 88.4 , 68.7 ],\n",
              "       [ 2.4 , 45.6 , 67.8 , 12.4 , 55.5 ]])"
            ]
          },
          "metadata": {},
          "execution_count": 21
        }
      ]
    },
    {
      "cell_type": "code",
      "source": [
        "np_2d[0]"
      ],
      "metadata": {
        "colab": {
          "base_uri": "https://localhost:8080/"
        },
        "id": "mj3BuIwVIzPF",
        "outputId": "dc5b16c6-e3d1-4944-c6f1-e1b4051d935c"
      },
      "execution_count": null,
      "outputs": [
        {
          "output_type": "execute_result",
          "data": {
            "text/plain": [
              "array([1.73, 1.68, 1.71, 1.89, 1.79])"
            ]
          },
          "metadata": {},
          "execution_count": 24
        }
      ]
    },
    {
      "cell_type": "code",
      "source": [
        "np_2d[0][2] #lista zero coluna dois"
      ],
      "metadata": {
        "colab": {
          "base_uri": "https://localhost:8080/"
        },
        "id": "AdyOjvKQJEOd",
        "outputId": "5d13b0fd-26c6-4249-e52f-8e005d47aa8a"
      },
      "execution_count": null,
      "outputs": [
        {
          "output_type": "execute_result",
          "data": {
            "text/plain": [
              "1.71"
            ]
          },
          "metadata": {},
          "execution_count": 25
        }
      ]
    },
    {
      "cell_type": "code",
      "source": [
        "np_2d[:, 1:3]"
      ],
      "metadata": {
        "colab": {
          "base_uri": "https://localhost:8080/"
        },
        "id": "a_vWv5ADJzCe",
        "outputId": "b1a4ed2d-7af5-4308-80b3-36af88243d8e"
      },
      "execution_count": null,
      "outputs": [
        {
          "output_type": "execute_result",
          "data": {
            "text/plain": [
              "array([[ 1.68,  1.71],\n",
              "       [59.2 , 63.6 ]])"
            ]
          },
          "metadata": {},
          "execution_count": 27
        }
      ]
    },
    {
      "cell_type": "code",
      "source": [
        "np_2d[1, :]"
      ],
      "metadata": {
        "colab": {
          "base_uri": "https://localhost:8080/"
        },
        "id": "pJykZtatKArt",
        "outputId": "e5650dfc-3a5d-4bed-878b-eb4dbd12e814"
      },
      "execution_count": null,
      "outputs": [
        {
          "output_type": "execute_result",
          "data": {
            "text/plain": [
              "array([65.4, 59.2, 63.6, 88.4, 68.7])"
            ]
          },
          "metadata": {},
          "execution_count": 28
        }
      ]
    },
    {
      "cell_type": "code",
      "source": [
        "baseball = [180, 215, 210, 188, 176, 209, 200]\n",
        "# importe a biblioteca numpy com acesso via np\n",
        "import numpy as np\n",
        "# use np.array() para converter a lista baseball para um array \n",
        "np_baseball = np.array( [180, 215, 210, 188, 176, 209, 200])\n",
        "# print o tipo da estrutura de dados np_baseball\n",
        "print(type(np_baseball))\n",
        "#print as dimensões do array np_baseball\n",
        "print(np_baseball.shape) # as dimensões são as linhas e as colunas. para exibilas basta colocar shape ao final ex: list.shape"
      ],
      "metadata": {
        "colab": {
          "base_uri": "https://localhost:8080/"
        },
        "id": "iPrIwzypKIkG",
        "outputId": "defac7c2-859c-402c-bb2d-68ba6e4bb0b0"
      },
      "execution_count": null,
      "outputs": [
        {
          "output_type": "stream",
          "name": "stdout",
          "text": [
            "<class 'numpy.ndarray'>\n",
            "(7,)\n"
          ]
        }
      ]
    },
    {
      "cell_type": "code",
      "source": [
        "import random as rd\n",
        "import numpy as np\n",
        "# geraçao de numeros entre 150 e 209\n",
        "height = range(150, 210)\n",
        "# geraçao de numeros entre 50 e 149 \n",
        "weight = range(50, 150)\n",
        "# amostra randomimca de 20 numeros de height\n",
        "height = rd.sample(height, 20)\n",
        "print(height)\n",
        "# amostra randomica de 20 numeros de weight \n",
        "weight = rd.sample(weight,20)\n",
        "print(weight)\n",
        " \n",
        "# converter height em array e normalizar multiplicando po 0.01 \n",
        "height_array = np.array(height)\n",
        "height_array = height_array*0.01\n",
        "\n",
        "#converter weight em array\n",
        "weight_array = np.array(weight)\n",
        "\n",
        "# calculo bmi \n",
        "bmi = weight_array/height_array**2\n",
        "print(bmi)\n",
        "# verificaçao de onde bmi é menor que 21 \n",
        "light = bmi<21\n",
        "print(light)\n",
        "# exibiçao dos valores de bmi om valor menor que 21 \n",
        "print(bmi[bmi<21])\n",
        "# print os elementos de weight_array do index 8 até o index 15 \n",
        "print(weight_array[7:16])\n",
        "# print os elementos de height_array do index 8 até o index 15\n",
        "print(height_array[7:16])\n",
        "# print os elementos de height_array de index 15 até o index 19 \n",
        "print(height_array[14:20])"
      ],
      "metadata": {
        "colab": {
          "base_uri": "https://localhost:8080/",
          "height": 0
        },
        "id": "HyqJ2SN7MCjA",
        "outputId": "1177440a-1c44-46aa-ee88-9b16cd7212d3"
      },
      "execution_count": 4,
      "outputs": [
        {
          "output_type": "stream",
          "name": "stdout",
          "text": [
            "[199, 202, 193, 166, 159, 179, 188, 154, 208, 158, 171, 190, 205, 207, 176, 170, 161, 178, 200, 203]\n",
            "[123, 115, 131, 58, 134, 60, 104, 126, 85, 53, 119, 88, 91, 96, 143, 100, 55, 136, 57, 101]\n",
            "[31.05982172 28.18351142 35.16872936 21.04804761 53.00423243 18.7260073\n",
            " 29.42507922 53.12868949 19.64681953 21.23057202 40.69628262 24.3767313\n",
            " 21.65377751 22.40425681 46.16477273 34.60207612 21.21831719 42.92387325\n",
            " 14.25       24.50920915]\n",
            "[False False False False False  True False False  True False False False\n",
            " False False False False False False  True False]\n",
            "[18.7260073  19.64681953 14.25      ]\n",
            "[126  85  53 119  88  91  96 143 100]\n",
            "[1.54 2.08 1.58 1.71 1.9  2.05 2.07 1.76 1.7 ]\n",
            "[1.76 1.7  1.61 1.78 2.   2.03]\n"
          ]
        }
      ]
    },
    {
      "cell_type": "code",
      "source": [
        "baseball = [[180, 78.4],[215, 182.7],[210, 98.5],[188, 75.2]]\n",
        "import numpy as np \n",
        "np_baseball = np.array(baseball)\n",
        "#print a terceira linha de np_baseball na linha 14\n",
        "print(np_baseball[2:])\n",
        "#crie uma nova variavel np_weight_lb que receba toda a segunda coluna de np_baseball\n",
        "np_weight_bl = np_baseball[:, 1]\n",
        "#Print a primeira coluna da segunda linha de Np_baseball na linha  do código.\n",
        "print(np_baseball[1, 0])\n",
        "#Calcule e exiba a média da primeira coluna de np_baseball.\n",
        "print(np.mean(np_baseball[0])) #list.mean exibe a média dos valores contidos na lista \n",
        "#Calcule e exiba a mediana da segunda linha de np_baseball.\n",
        "print(np.median(np_baseball[1]))"
      ],
      "metadata": {
        "colab": {
          "base_uri": "https://localhost:8080/"
        },
        "id": "L_D3y9iTUI_L",
        "outputId": "c1523f27-8801-47ac-e94b-eead050aab8d"
      },
      "execution_count": 8,
      "outputs": [
        {
          "output_type": "stream",
          "name": "stdout",
          "text": [
            "[[210.   98.5]\n",
            " [188.   75.2]]\n",
            "215.0\n",
            "129.2\n",
            "198.85\n"
          ]
        }
      ]
    },
    {
      "cell_type": "markdown",
      "source": [
        "Os arrays tem por finalidade armazenar vários dados do mesmo tipo juntos como se tivéssemos vários elementos dentro de uma única variável."
      ],
      "metadata": {
        "id": "hecAEGqWuMRZ"
      }
    },
    {
      "cell_type": "markdown",
      "source": [
        "O NumPy é uma biblioteca para a linguagem Python com funções para se trabalhar com computação numérica. Seu principal objeto é o vetor n-dimensional, ou ndarray . Um vetor n-dimensional também é conhecido pelo nome tensor."
      ],
      "metadata": {
        "id": "AucSYwGBvHo3"
      }
    },
    {
      "cell_type": "code",
      "source": [
        "np_2d[0, 2]"
      ],
      "metadata": {
        "colab": {
          "base_uri": "https://localhost:8080/"
        },
        "id": "u__liVpMJJlt",
        "outputId": "1a3c190c-946c-4076-8e9d-5edecab94ccb"
      },
      "execution_count": null,
      "outputs": [
        {
          "output_type": "execute_result",
          "data": {
            "text/plain": [
              "1.71"
            ]
          },
          "metadata": {},
          "execution_count": 26
        }
      ]
    }
  ]
}